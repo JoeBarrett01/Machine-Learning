{
  "cells": [
    {
      "cell_type": "markdown",
      "metadata": {
        "id": "qSjlYdKxQJd8"
      },
      "source": [
        "#Model Implementation\n",
        "##In this section, multiple models are developed, optimized, and evaluated. \n",
        "###The types of models include: \n",
        "\n",
        "\n",
        "*   Multi-Layer Perceptron (MLP) Neural Network\n",
        "*   Support Vector Machine (SVM)\n",
        "*   K-Nearest Neighbors (KNN)\n",
        "*   Naïve Bayes\n",
        "\n",
        "\n",
        "\n",
        "\n"
      ]
    },
    {
      "cell_type": "code",
      "execution_count": 1,
      "metadata": {
        "id": "vkYDk9A6Uj5P",
        "colab": {
          "base_uri": "https://localhost:8080/"
        },
        "outputId": "487c7da5-b90a-48cf-8299-7b76874982b9"
      },
      "outputs": [
        {
          "output_type": "stream",
          "name": "stdout",
          "text": [
            "Looking in indexes: https://pypi.org/simple, https://us-python.pkg.dev/colab-wheels/public/simple/\n",
            "Collecting contractions\n",
            "  Downloading contractions-0.1.73-py2.py3-none-any.whl (8.7 kB)\n",
            "Collecting textsearch>=0.0.21\n",
            "  Downloading textsearch-0.0.24-py2.py3-none-any.whl (7.6 kB)\n",
            "Collecting pyahocorasick\n",
            "  Downloading pyahocorasick-2.0.0-cp39-cp39-manylinux_2_5_x86_64.manylinux1_x86_64.whl (103 kB)\n",
            "\u001b[2K     \u001b[90m━━━━━━━━━━━━━━━━━━━━━━━━━━━━━━━━━━━━━━━\u001b[0m \u001b[32m103.2/103.2 kB\u001b[0m \u001b[31m3.0 MB/s\u001b[0m eta \u001b[36m0:00:00\u001b[0m\n",
            "\u001b[?25hCollecting anyascii\n",
            "  Downloading anyascii-0.3.2-py3-none-any.whl (289 kB)\n",
            "\u001b[2K     \u001b[90m━━━━━━━━━━━━━━━━━━━━━━━━━━━━━━━━━━━━━━\u001b[0m \u001b[32m289.9/289.9 kB\u001b[0m \u001b[31m11.3 MB/s\u001b[0m eta \u001b[36m0:00:00\u001b[0m\n",
            "\u001b[?25hInstalling collected packages: pyahocorasick, anyascii, textsearch, contractions\n",
            "Successfully installed anyascii-0.3.2 contractions-0.1.73 pyahocorasick-2.0.0 textsearch-0.0.24\n",
            "Looking in indexes: https://pypi.org/simple, https://us-python.pkg.dev/colab-wheels/public/simple/\n",
            "Collecting unidecode\n",
            "  Downloading Unidecode-1.3.6-py3-none-any.whl (235 kB)\n",
            "\u001b[2K     \u001b[90m━━━━━━━━━━━━━━━━━━━━━━━━━━━━━━━━━━━━━━━\u001b[0m \u001b[32m235.9/235.9 kB\u001b[0m \u001b[31m2.8 MB/s\u001b[0m eta \u001b[36m0:00:00\u001b[0m\n",
            "\u001b[?25hInstalling collected packages: unidecode\n",
            "Successfully installed unidecode-1.3.6\n",
            "Looking in indexes: https://pypi.org/simple, https://us-python.pkg.dev/colab-wheels/public/simple/\n",
            "Collecting keras-tuner\n",
            "  Downloading keras_tuner-1.3.5-py3-none-any.whl (176 kB)\n",
            "\u001b[2K     \u001b[90m━━━━━━━━━━━━━━━━━━━━━━━━━━━━━━━━━━━━━━━\u001b[0m \u001b[32m176.1/176.1 kB\u001b[0m \u001b[31m4.0 MB/s\u001b[0m eta \u001b[36m0:00:00\u001b[0m\n",
            "\u001b[?25hCollecting kt-legacy\n",
            "  Downloading kt_legacy-1.0.5-py3-none-any.whl (9.6 kB)\n",
            "Requirement already satisfied: packaging in /usr/local/lib/python3.9/dist-packages (from keras-tuner) (23.1)\n",
            "Requirement already satisfied: requests in /usr/local/lib/python3.9/dist-packages (from keras-tuner) (2.27.1)\n",
            "Requirement already satisfied: urllib3<1.27,>=1.21.1 in /usr/local/lib/python3.9/dist-packages (from requests->keras-tuner) (1.26.15)\n",
            "Requirement already satisfied: charset-normalizer~=2.0.0 in /usr/local/lib/python3.9/dist-packages (from requests->keras-tuner) (2.0.12)\n",
            "Requirement already satisfied: idna<4,>=2.5 in /usr/local/lib/python3.9/dist-packages (from requests->keras-tuner) (3.4)\n",
            "Requirement already satisfied: certifi>=2017.4.17 in /usr/local/lib/python3.9/dist-packages (from requests->keras-tuner) (2022.12.7)\n",
            "Installing collected packages: kt-legacy, keras-tuner\n",
            "Successfully installed keras-tuner-1.3.5 kt-legacy-1.0.5\n"
          ]
        },
        {
          "output_type": "stream",
          "name": "stderr",
          "text": [
            "[nltk_data] Downloading package stopwords to /root/nltk_data...\n",
            "[nltk_data]   Unzipping corpora/stopwords.zip.\n",
            "[nltk_data] Downloading package punkt to /root/nltk_data...\n",
            "[nltk_data]   Unzipping tokenizers/punkt.zip.\n",
            "[nltk_data] Downloading package wordnet to /root/nltk_data...\n",
            "[nltk_data] Downloading package omw-1.4 to /root/nltk_data...\n"
          ]
        },
        {
          "output_type": "execute_result",
          "data": {
            "text/plain": [
              "True"
            ]
          },
          "metadata": {},
          "execution_count": 1
        }
      ],
      "source": [
        "#Imports \n",
        "!pip install contractions\n",
        "!pip install unidecode\n",
        "!pip install keras-tuner\n",
        "import matplotlib.pyplot as plt\n",
        "import pandas as pd\n",
        "import numpy as np\n",
        "import tensorflow as tf\n",
        "import keras_tuner as kt\n",
        "import seaborn as sns\n",
        "#from sklearn import classification_report\n",
        "from tensorflow import keras\n",
        "from nltk import word_tokenize\n",
        "from nltk.stem import WordNetLemmatizer\n",
        "from nltk.corpus import stopwords\n",
        "from contractions import fix\n",
        "import string\n",
        "import regex as re\n",
        "from sklearn.model_selection import train_test_split\n",
        "import nltk\n",
        "from sklearn.feature_extraction.text import CountVectorizer\n",
        "from sklearn.feature_extraction.text import TfidfTransformer\n",
        "from sklearn.pipeline import Pipeline\n",
        "from sklearn.feature_selection import chi2\n",
        "from sklearn.feature_selection import SelectKBest\n",
        "from keras.models import Sequential\n",
        "from keras.layers import Dense, Dropout\n",
        "from sklearn.compose import make_column_transformer\n",
        "from sklearn import metrics\n",
        "from tensorflow.keras.preprocessing.sequence import pad_sequences\n",
        "from tensorflow.keras.preprocessing.text import Tokenizer\n",
        "from sklearn.metrics import classification_report, confusion_matrix, roc_auc_score\n",
        "from sklearn.model_selection import RandomizedSearchCV\n",
        "from sklearn.model_selection import RepeatedStratifiedKFold\n",
        "from sklearn import svm\n",
        "from sklearn.metrics import accuracy_score\n",
        "from sklearn.naive_bayes import MultinomialNB\n",
        "from sklearn.neighbors import KNeighborsClassifier\n",
        "nltk.download('stopwords')\n",
        "nltk.download('punkt')\n",
        "nltk.download('wordnet')\n",
        "nltk.download('omw-1.4')"
      ]
    },
    {
      "cell_type": "markdown",
      "metadata": {
        "id": "jGFzsaXxRuuX"
      },
      "source": [
        "##Importing Data\n"
      ]
    },
    {
      "cell_type": "code",
      "execution_count": 2,
      "metadata": {
        "colab": {
          "base_uri": "https://localhost:8080/"
        },
        "id": "0qGrUIb-R_dl",
        "outputId": "cb96f8c5-6313-4d94-b058-d1714470563b"
      },
      "outputs": [
        {
          "output_type": "stream",
          "name": "stdout",
          "text": [
            "Mounted at /content/drive\n"
          ]
        }
      ],
      "source": [
        "from google.colab import drive\n",
        "drive.mount('/content/drive')"
      ]
    },
    {
      "cell_type": "code",
      "execution_count": 3,
      "metadata": {
        "id": "d6h7GXzKSAYj"
      },
      "outputs": [],
      "source": [
        "#use if running in Google Colab and the dataset is in your Google Drive\n",
        "read_data = pd.read_csv('/content/drive/MyDrive/Pre-processing/opinion_fact_news.csv')\n",
        "\n",
        "#use if dataset is not in your google drive\n",
        "#file_path = 'insert path to file here'\n",
        "#read_data = pd.read_csv(file_path)"
      ]
    },
    {
      "cell_type": "markdown",
      "metadata": {
        "id": "NYPFTQ8LR_AA"
      },
      "source": [
        "##Preprocessing "
      ]
    },
    {
      "cell_type": "code",
      "execution_count": 4,
      "metadata": {
        "id": "DVsLUqlWSJOv"
      },
      "outputs": [],
      "source": [
        "#Removing stopwords and punctuation (with some exceptions), tokenizing, and lemmatizing text\n",
        "\n",
        "\n",
        "punctuation = string.punctuation + \"”“—’`\"\n",
        "stopwords_list = stopwords.words('english')\n",
        "stopwords_list.extend(['reuters'])\n",
        "stopwords_list = set([word for word in stopwords_list if word not in {'his', \n",
        "                                                                      'they', \n",
        "                                                                      'we', \n",
        "                                                                      'us', \n",
        "                                                                      'our', \n",
        "                                                                      'myself'\n",
        "                                                                      }\n",
        "                      ]\n",
        "                     )\n",
        "\n",
        "\n",
        "\n",
        "def clean_data(data):\n",
        "    no_punct = re.sub(r\"[^\\w\\s]|_\", \" \", data)\n",
        "    token = word_tokenize(fix(no_punct))\n",
        "    lemma = [WordNetLemmatizer().lemmatize(x) for x in token]\n",
        "    stopwords_removed = [x.lower() for x in lemma if x.lower() not in stopwords_list]\n",
        "    return stopwords_removed\n",
        "\n",
        "\n",
        "#Encoding labels: 0=opinion 1=fact\n",
        "data = read_data.copy()\n",
        "data['label'] = np.where(data['label'] == 'opinion', 0, 1) \n",
        "\n",
        "\n",
        "#Seperating the data into X and Y variables\n",
        "y_data = data['label'].copy() #this is the label column (target variable)\n",
        "x_data = data.drop(['label'], axis=1) #this is title and body text"
      ]
    },
    {
      "cell_type": "code",
      "execution_count": 5,
      "metadata": {
        "id": "7685fDZaSQRd"
      },
      "outputs": [],
      "source": [
        "#Initial test train split\n",
        "\n",
        "x_train, x_test, y_train, y_test,  = train_test_split(x_data, y_data, test_size=0.2, random_state=42, stratify=y_data)"
      ]
    },
    {
      "cell_type": "code",
      "execution_count": 6,
      "metadata": {
        "colab": {
          "base_uri": "https://localhost:8080/"
        },
        "id": "aTBen5jQVFmt",
        "outputId": "251418a4-bdc2-4f61-bb23-21b43e12414f"
      },
      "outputs": [
        {
          "output_type": "stream",
          "name": "stdout",
          "text": [
            "x_train shape: (8000, 2)\n",
            "y_train shape: (8000,)\n",
            "x_test shape: (2000, 2)\n",
            "y_test shape: (2000,)\n"
          ]
        }
      ],
      "source": [
        "#Checking sizes\n",
        "\n",
        "\n",
        "print(\"x_train shape: {}\".format(x_train.shape))\n",
        "print(\"y_train shape: {}\".format(y_train.shape))\n",
        "print(\"x_test shape: {}\".format(x_test.shape))\n",
        "print(\"y_test shape: {}\".format(y_test.shape))"
      ]
    },
    {
      "cell_type": "markdown",
      "metadata": {
        "id": "3wMMIHQlShSS"
      },
      "source": [
        "## Transformation Pipeline\n",
        "###BoW, ChiSq selection, and TFIDF transformation"
      ]
    },
    {
      "cell_type": "code",
      "execution_count": 7,
      "metadata": {
        "colab": {
          "base_uri": "https://localhost:8080/"
        },
        "id": "nzUATL0tSjGo",
        "outputId": "03e213f2-141b-4336-ffe5-ac54d7a73189"
      },
      "outputs": [
        {
          "output_type": "stream",
          "name": "stderr",
          "text": [
            "/usr/local/lib/python3.9/dist-packages/sklearn/feature_extraction/text.py:528: UserWarning: The parameter 'token_pattern' will not be used since 'tokenizer' is not None'\n",
            "  warnings.warn(\n"
          ]
        }
      ],
      "source": [
        "#Assigning how many words we want to consider (these will be selected \n",
        "#top down from a list according to their \n",
        "#chi-squared value in descending order)\n",
        "num_of_top_words = 200 \n",
        "\n",
        "\n",
        "vectorizer = CountVectorizer(analyzer='word', lowercase=True, tokenizer=clean_data, stop_words=None, preprocessor=None)\n",
        "\n",
        "tfidf_pipeline = Pipeline([\n",
        "    ('tfidf/cleaning', make_column_transformer((vectorizer, 'title'), (vectorizer, 'body'))),\n",
        "    ('chi2score-selection', SelectKBest(chi2, k=num_of_top_words)),\n",
        "    ('tfidf-transformation', TfidfTransformer(use_idf=True))\n",
        "])\n",
        "\n",
        "x_train_tfidf = tfidf_pipeline.fit_transform(x_train, y_train)\n",
        "x_test_tfidf = tfidf_pipeline.transform(x_test)"
      ]
    },
    {
      "cell_type": "code",
      "source": [
        "#For data analysis- quick look at correlations to ensure we can use Naive Bayes  \n",
        "feature_names= tfidf_pipeline.get_feature_names_out()\n",
        "\n",
        "new_x=x_train_tfidf.toarray()\n",
        "corr_matrix=np.corrcoef(new_x)\n",
        "a=np.concatenate(corr_matrix)\n",
        "\n",
        "plt.hist(a)\n",
        "plt.xlabel(\"Correlation Score between two features\")"
      ],
      "metadata": {
        "colab": {
          "base_uri": "https://localhost:8080/",
          "height": 251
        },
        "id": "OcOoDVjDIgAP",
        "outputId": "c4137d56-eded-4678-93c1-70604d028f4a"
      },
      "execution_count": 8,
      "outputs": [
        {
          "output_type": "stream",
          "name": "stderr",
          "text": [
            "/usr/local/lib/python3.9/dist-packages/numpy/lib/function_base.py:2829: RuntimeWarning: invalid value encountered in true_divide\n",
            "  c /= stddev[:, None]\n",
            "/usr/local/lib/python3.9/dist-packages/numpy/lib/function_base.py:2830: RuntimeWarning: invalid value encountered in true_divide\n",
            "  c /= stddev[None, :]\n"
          ]
        },
        {
          "output_type": "execute_result",
          "data": {
            "text/plain": [
              "Text(0.5, 0, 'Correlation Score between two features')"
            ]
          },
          "metadata": {},
          "execution_count": 8
        },
        {
          "output_type": "display_data",
          "data": {
            "text/plain": [
              "<Figure size 640x480 with 1 Axes>"
            ],
            "image/png": "[encoded data removed]"
          },
          "metadata": {}
        }
      ]
    },
    {
      "cell_type": "markdown",
      "metadata": {
        "id": "BZxhd_zqSxuD"
      },
      "source": [
        "###Syntax\n",
        "Use for models:\n",
        "\n",
        "\n",
        "\n",
        "*  **x_train_tfidf** with **y_train**\n",
        "*  **x_test_tfidf** with **y_test**\n",
        "\n"
      ]
    },
    {
      "cell_type": "markdown",
      "metadata": {
        "id": "CFmLLB77Qxjj"
      },
      "source": [
        "# MLP Neural Network"
      ]
    },
    {
      "cell_type": "markdown",
      "metadata": {
        "id": "H1Ge6iTjRFSh"
      },
      "source": [
        "### Prelimenary Development"
      ]
    },
    {
      "cell_type": "code",
      "execution_count": 51,
      "metadata": {
        "colab": {
          "base_uri": "https://localhost:8080/"
        },
        "id": "2f3sWyuNdbXp",
        "outputId": "b5f5fb01-b04e-4dc1-d1c4-119bfbd2d859"
      },
      "outputs": [
        {
          "output_type": "stream",
          "name": "stdout",
          "text": [
            "Epoch 1/30\n",
            "128/128 [==============================] - 1s 4ms/step - loss: 0.5683 - accuracy: 0.8400 - val_loss: 0.4505 - val_accuracy: 0.9206\n",
            "Epoch 2/30\n",
            "128/128 [==============================] - 0s 2ms/step - loss: 0.3796 - accuracy: 0.9198 - val_loss: 0.3042 - val_accuracy: 0.9431\n",
            "Epoch 3/30\n",
            "128/128 [==============================] - 0s 2ms/step - loss: 0.2765 - accuracy: 0.9352 - val_loss: 0.2234 - val_accuracy: 0.9525\n",
            "Epoch 4/30\n",
            "128/128 [==============================] - 0s 2ms/step - loss: 0.2233 - accuracy: 0.9397 - val_loss: 0.1758 - val_accuracy: 0.9594\n",
            "Epoch 5/30\n",
            "128/128 [==============================] - 0s 3ms/step - loss: 0.1817 - accuracy: 0.9519 - val_loss: 0.1447 - val_accuracy: 0.9619\n",
            "Epoch 6/30\n",
            "128/128 [==============================] - 0s 2ms/step - loss: 0.1591 - accuracy: 0.9534 - val_loss: 0.1224 - val_accuracy: 0.9688\n",
            "Epoch 7/30\n",
            "128/128 [==============================] - 0s 2ms/step - loss: 0.1427 - accuracy: 0.9589 - val_loss: 0.1081 - val_accuracy: 0.9712\n",
            "Epoch 8/30\n",
            "128/128 [==============================] - 0s 2ms/step - loss: 0.1294 - accuracy: 0.9627 - val_loss: 0.0960 - val_accuracy: 0.9744\n",
            "Epoch 9/30\n",
            "128/128 [==============================] - 0s 2ms/step - loss: 0.1183 - accuracy: 0.9659 - val_loss: 0.0873 - val_accuracy: 0.9750\n",
            "Epoch 10/30\n",
            "128/128 [==============================] - 0s 2ms/step - loss: 0.1104 - accuracy: 0.9683 - val_loss: 0.0803 - val_accuracy: 0.9769\n",
            "Epoch 11/30\n",
            "128/128 [==============================] - 0s 3ms/step - loss: 0.1032 - accuracy: 0.9688 - val_loss: 0.0745 - val_accuracy: 0.9812\n",
            "Epoch 12/30\n",
            "128/128 [==============================] - 0s 3ms/step - loss: 0.0965 - accuracy: 0.9734 - val_loss: 0.0698 - val_accuracy: 0.9812\n",
            "Epoch 13/30\n",
            "128/128 [==============================] - 0s 3ms/step - loss: 0.0940 - accuracy: 0.9722 - val_loss: 0.0655 - val_accuracy: 0.9825\n",
            "Epoch 14/30\n",
            "128/128 [==============================] - 0s 4ms/step - loss: 0.0890 - accuracy: 0.9736 - val_loss: 0.0626 - val_accuracy: 0.9837\n",
            "Epoch 15/30\n",
            "128/128 [==============================] - 0s 4ms/step - loss: 0.0841 - accuracy: 0.9756 - val_loss: 0.0600 - val_accuracy: 0.9850\n",
            "Epoch 16/30\n",
            "128/128 [==============================] - 1s 4ms/step - loss: 0.0821 - accuracy: 0.9766 - val_loss: 0.0576 - val_accuracy: 0.9856\n",
            "Epoch 17/30\n",
            "128/128 [==============================] - 0s 4ms/step - loss: 0.0765 - accuracy: 0.9798 - val_loss: 0.0556 - val_accuracy: 0.9856\n",
            "Epoch 18/30\n",
            "128/128 [==============================] - 0s 3ms/step - loss: 0.0759 - accuracy: 0.9777 - val_loss: 0.0545 - val_accuracy: 0.9856\n",
            "Epoch 19/30\n",
            "128/128 [==============================] - 0s 3ms/step - loss: 0.0724 - accuracy: 0.9791 - val_loss: 0.0526 - val_accuracy: 0.9869\n",
            "Epoch 20/30\n",
            "128/128 [==============================] - 0s 3ms/step - loss: 0.0736 - accuracy: 0.9775 - val_loss: 0.0517 - val_accuracy: 0.9869\n",
            "Epoch 21/30\n",
            "128/128 [==============================] - 1s 4ms/step - loss: 0.0683 - accuracy: 0.9811 - val_loss: 0.0505 - val_accuracy: 0.9869\n",
            "Epoch 22/30\n",
            "128/128 [==============================] - 2s 12ms/step - loss: 0.0717 - accuracy: 0.9780 - val_loss: 0.0494 - val_accuracy: 0.9869\n",
            "Epoch 23/30\n",
            "128/128 [==============================] - 0s 4ms/step - loss: 0.0661 - accuracy: 0.9814 - val_loss: 0.0487 - val_accuracy: 0.9869\n",
            "Epoch 24/30\n",
            "128/128 [==============================] - 0s 2ms/step - loss: 0.0642 - accuracy: 0.9823 - val_loss: 0.0481 - val_accuracy: 0.9869\n",
            "Epoch 25/30\n",
            "128/128 [==============================] - 0s 2ms/step - loss: 0.0622 - accuracy: 0.9816 - val_loss: 0.0469 - val_accuracy: 0.9869\n",
            "Epoch 26/30\n",
            "128/128 [==============================] - 0s 2ms/step - loss: 0.0612 - accuracy: 0.9827 - val_loss: 0.0465 - val_accuracy: 0.9869\n",
            "Epoch 27/30\n",
            "128/128 [==============================] - 0s 2ms/step - loss: 0.0603 - accuracy: 0.9811 - val_loss: 0.0462 - val_accuracy: 0.9869\n",
            "Epoch 28/30\n",
            "128/128 [==============================] - 0s 2ms/step - loss: 0.0561 - accuracy: 0.9847 - val_loss: 0.0461 - val_accuracy: 0.9862\n",
            "Epoch 29/30\n",
            "128/128 [==============================] - 0s 3ms/step - loss: 0.0566 - accuracy: 0.9844 - val_loss: 0.0456 - val_accuracy: 0.9869\n",
            "Epoch 30/30\n",
            "128/128 [==============================] - 0s 2ms/step - loss: 0.0563 - accuracy: 0.9831 - val_loss: 0.0452 - val_accuracy: 0.9875\n"
          ]
        }
      ],
      "source": [
        "#Creating a simple prelimenary model \n",
        "\n",
        "\n",
        "model = keras.models.Sequential()\n",
        "model.add(Dense(3, input_dim=num_of_top_words, activation='relu'))\n",
        "model.add(Dropout(0.1))\n",
        "model.add(keras.layers.Dense(1, activation=\"sigmoid\"))\n",
        "\n",
        "model.compile(loss = \"binary_crossentropy\", optimizer=keras.optimizers.Adam(), metrics = [\"accuracy\"])\n",
        "history = model.fit(x_train_tfidf.toarray(), y_train, epochs=30, batch_size=50, validation_split = 0.2)\n"
      ]
    },
    {
      "cell_type": "code",
      "source": [
        "#Making predictions using test set (probabilities)\n",
        "y_pred_proba_t = model.predict(x_test_tfidf.toarray())\n",
        "print('MLP Predictions (Probabilities))\\n: ', y_pred_proba_t)\n",
        "\n",
        "\n",
        "#Transforming probability outputs into binary labels\n",
        "pred_mlp_t = (model.predict(x_test_tfidf.toarray())> 0.5).astype(\"int32\")\n",
        "\n",
        "print('MLP Binary Predictions on Validation Data: \\n', pred_mlp_t)\n",
        "\n",
        "print('Prelimenary MLP Performance --> \\n{}'.format(classification_report(y_test, pred_mlp_t)))"
      ],
      "metadata": {
        "colab": {
          "base_uri": "https://localhost:8080/"
        },
        "id": "2WU1anPg_txw",
        "outputId": "57c8a060-28a0-42eb-f3a8-421afd438ce6"
      },
      "execution_count": 56,
      "outputs": [
        {
          "output_type": "stream",
          "name": "stdout",
          "text": [
            "63/63 [==============================] - 0s 1ms/step\n",
            "MLP Predictions (Probabilities))\n",
            ":  [[5.2387547e-03]\n",
            " [9.9987739e-01]\n",
            " [2.4701116e-04]\n",
            " ...\n",
            " [9.9989516e-01]\n",
            " [9.8969096e-01]\n",
            " [9.9865240e-01]]\n",
            "63/63 [==============================] - 0s 3ms/step\n",
            "MLP Binary Predictions on Validation Data: \n",
            " [[0]\n",
            " [1]\n",
            " [0]\n",
            " ...\n",
            " [1]\n",
            " [1]\n",
            " [1]]\n",
            "Prelimenary MLP Performance --> \n",
            "              precision    recall  f1-score   support\n",
            "\n",
            "           0       0.98      0.99      0.99      1000\n",
            "           1       0.99      0.98      0.99      1000\n",
            "\n",
            "    accuracy                           0.99      2000\n",
            "   macro avg       0.99      0.99      0.99      2000\n",
            "weighted avg       0.99      0.99      0.99      2000\n",
            "\n"
          ]
        }
      ]
    },
    {
      "cell_type": "markdown",
      "metadata": {
        "id": "Wazx66KARJWm"
      },
      "source": [
        "###Hypertuning "
      ]
    },
    {
      "cell_type": "code",
      "execution_count": 30,
      "metadata": {
        "id": "xwWvz3g5x-7y"
      },
      "outputs": [],
      "source": [
        "def model_builder(hp):\n",
        "  '''\n",
        "  Creates an archetecture that the hypermodel will be built according to\n",
        "  '''\n",
        "  # Initializing the sequential API and stacking the layers\n",
        "  model = keras.Sequential()\n",
        "  hp_nodes = hp.Int('nodes', min_value=1, max_value=5, step=1)\n",
        "  hp_act = hp.Choice('activation', values=['sigmoid', 'softmax', 'relu'])\n",
        "  model.add(Dense(hp_nodes, input_dim=num_of_top_words, activation=hp_act))\n",
        "  hp_dr_rate = hp.Choice('dropout_rate', values=[0.1, 0.15, 0.2])\n",
        "  model.add(Dropout(hp_dr_rate))\n",
        "  model.add(keras.layers.Dense(1, activation='sigmoid'))\n",
        "  model.compile(loss = \"binary_crossentropy\", optimizer=keras.optimizers.Adam(), metrics = [\"accuracy\"])\n",
        "\n",
        "\n",
        "  return model"
      ]
    },
    {
      "cell_type": "code",
      "execution_count": 31,
      "metadata": {
        "colab": {
          "base_uri": "https://localhost:8080/"
        },
        "id": "41VqBwKkx_s6",
        "outputId": "6902f995-85a3-489c-a590-e78eca28f7ee"
      },
      "outputs": [
        {
          "output_type": "stream",
          "name": "stdout",
          "text": [
            "Search space summary\n",
            "Default search space size: 3\n",
            "nodes (Int)\n",
            "{'default': None, 'conditions': [], 'min_value': 1, 'max_value': 5, 'step': 1, 'sampling': 'linear'}\n",
            "activation (Choice)\n",
            "{'default': 'sigmoid', 'conditions': [], 'values': ['sigmoid', 'softmax', 'relu'], 'ordered': False}\n",
            "dropout_rate (Choice)\n",
            "{'default': 0.1, 'conditions': [], 'values': [0.1, 0.15, 0.2], 'ordered': True}\n"
          ]
        }
      ],
      "source": [
        "#Instantiating the tuner\n",
        "\n",
        "\n",
        "tuner = kt.Hyperband(hypermodel=model_builder, # the hypermodel\n",
        "                     objective='val_accuracy',\n",
        "                     max_epochs=10,\n",
        "                     factor=3, \n",
        "                     directory='dir', # directory to save logs \n",
        "                     project_name='khyperband',\n",
        "                     overwrite=True)\n",
        "\n",
        "\n",
        "\n",
        "#Look at a summary of the tuner \n",
        "tuner.search_space_summary() "
      ]
    },
    {
      "cell_type": "code",
      "execution_count": 32,
      "metadata": {
        "colab": {
          "base_uri": "https://localhost:8080/"
        },
        "id": "UymeYG7myB5h",
        "outputId": "a8749ae3-9a90-4993-a992-facea2cb50d5"
      },
      "outputs": [
        {
          "output_type": "stream",
          "name": "stdout",
          "text": [
            "Trial 30 Complete [00h 00m 11s]\n",
            "val_accuracy: 0.9599999785423279\n",
            "\n",
            "Best val_accuracy So Far: 0.987500011920929\n",
            "Total elapsed time: 00h 02m 08s\n",
            "\n",
            "The hyperparameter search is complete. The optimal number of nodes in the first \n",
            "hidden layer is 5, the optimal dropout rate for the dropout \n",
            "layer is 0.1 and the best activation function for the \n",
            "hidden layer is relu.\n",
            "\n"
          ]
        }
      ],
      "source": [
        "#To avoid unnecessary computation time\n",
        "stop_early = tf.keras.callbacks.EarlyStopping(monitor='val_loss', patience=5)\n",
        "\n",
        "#Perform hypertuning\n",
        "tuner.search(x_train_tfidf.toarray(), y_train, epochs=30, validation_split=0.1, callbacks=[stop_early])\n",
        "\n",
        "#Get the optimal hyperparameters\n",
        "best_hps=tuner.get_best_hyperparameters(num_trials=3)[0]\n",
        "\n",
        "print(f\"\"\"\n",
        "The hyperparameter search is complete. The optimal number of nodes in the first \n",
        "hidden layer is {best_hps.get('nodes')}, the optimal dropout rate for the dropout \n",
        "layer is {best_hps.get('dropout_rate')} and the best activation function for the \n",
        "hidden layer is {best_hps.get('activation')}.\n",
        "\"\"\")"
      ]
    },
    {
      "cell_type": "code",
      "execution_count": 36,
      "metadata": {
        "colab": {
          "base_uri": "https://localhost:8080/"
        },
        "id": "N2AttjXGyEO6",
        "outputId": "2ff382db-4784-4acd-f3ca-3ceddac7a648"
      },
      "outputs": [
        {
          "output_type": "stream",
          "name": "stdout",
          "text": [
            "Epoch 1/30\n",
            "128/128 [==============================] - 3s 7ms/step - loss: 0.5794 - accuracy: 0.8378 - val_loss: 0.4413 - val_accuracy: 0.9494\n",
            "Epoch 2/30\n",
            "128/128 [==============================] - 1s 5ms/step - loss: 0.3433 - accuracy: 0.9458 - val_loss: 0.2535 - val_accuracy: 0.9538\n",
            "Epoch 3/30\n",
            "128/128 [==============================] - 1s 5ms/step - loss: 0.2199 - accuracy: 0.9516 - val_loss: 0.1738 - val_accuracy: 0.9594\n",
            "Epoch 4/30\n",
            "128/128 [==============================] - 1s 5ms/step - loss: 0.1679 - accuracy: 0.9527 - val_loss: 0.1340 - val_accuracy: 0.9656\n",
            "Epoch 5/30\n",
            "128/128 [==============================] - 1s 4ms/step - loss: 0.1358 - accuracy: 0.9594 - val_loss: 0.1097 - val_accuracy: 0.9694\n",
            "Epoch 6/30\n",
            "128/128 [==============================] - 1s 5ms/step - loss: 0.1137 - accuracy: 0.9653 - val_loss: 0.0937 - val_accuracy: 0.9750\n",
            "Epoch 7/30\n",
            "128/128 [==============================] - 1s 10ms/step - loss: 0.0987 - accuracy: 0.9697 - val_loss: 0.0826 - val_accuracy: 0.9762\n",
            "Epoch 8/30\n",
            "128/128 [==============================] - 1s 6ms/step - loss: 0.0879 - accuracy: 0.9745 - val_loss: 0.0745 - val_accuracy: 0.9806\n",
            "Epoch 9/30\n",
            "128/128 [==============================] - 0s 3ms/step - loss: 0.0828 - accuracy: 0.9737 - val_loss: 0.0683 - val_accuracy: 0.9825\n",
            "Epoch 10/30\n",
            "128/128 [==============================] - 0s 3ms/step - loss: 0.0745 - accuracy: 0.9764 - val_loss: 0.0640 - val_accuracy: 0.9831\n",
            "Epoch 11/30\n",
            "128/128 [==============================] - 0s 3ms/step - loss: 0.0687 - accuracy: 0.9808 - val_loss: 0.0601 - val_accuracy: 0.9856\n",
            "Epoch 12/30\n",
            "128/128 [==============================] - 0s 3ms/step - loss: 0.0654 - accuracy: 0.9792 - val_loss: 0.0566 - val_accuracy: 0.9862\n",
            "Epoch 13/30\n",
            "128/128 [==============================] - 0s 3ms/step - loss: 0.0584 - accuracy: 0.9825 - val_loss: 0.0545 - val_accuracy: 0.9869\n",
            "Epoch 14/30\n",
            "128/128 [==============================] - 0s 3ms/step - loss: 0.0587 - accuracy: 0.9811 - val_loss: 0.0519 - val_accuracy: 0.9875\n",
            "Epoch 15/30\n",
            "128/128 [==============================] - 0s 3ms/step - loss: 0.0558 - accuracy: 0.9819 - val_loss: 0.0506 - val_accuracy: 0.9887\n",
            "Epoch 16/30\n",
            "128/128 [==============================] - 0s 3ms/step - loss: 0.0518 - accuracy: 0.9844 - val_loss: 0.0495 - val_accuracy: 0.9887\n",
            "Epoch 17/30\n",
            "128/128 [==============================] - 0s 3ms/step - loss: 0.0497 - accuracy: 0.9844 - val_loss: 0.0484 - val_accuracy: 0.9887\n",
            "Epoch 18/30\n",
            "128/128 [==============================] - 0s 2ms/step - loss: 0.0471 - accuracy: 0.9845 - val_loss: 0.0476 - val_accuracy: 0.9887\n",
            "Epoch 19/30\n",
            "128/128 [==============================] - 0s 2ms/step - loss: 0.0445 - accuracy: 0.9866 - val_loss: 0.0464 - val_accuracy: 0.9894\n",
            "Epoch 20/30\n",
            "128/128 [==============================] - 0s 2ms/step - loss: 0.0435 - accuracy: 0.9858 - val_loss: 0.0460 - val_accuracy: 0.9887\n",
            "Epoch 21/30\n",
            "128/128 [==============================] - 0s 2ms/step - loss: 0.0434 - accuracy: 0.9867 - val_loss: 0.0452 - val_accuracy: 0.9894\n",
            "Epoch 22/30\n",
            "128/128 [==============================] - 0s 2ms/step - loss: 0.0436 - accuracy: 0.9862 - val_loss: 0.0448 - val_accuracy: 0.9887\n",
            "Epoch 23/30\n",
            "128/128 [==============================] - 0s 2ms/step - loss: 0.0389 - accuracy: 0.9895 - val_loss: 0.0446 - val_accuracy: 0.9887\n",
            "Epoch 24/30\n",
            "128/128 [==============================] - 0s 3ms/step - loss: 0.0391 - accuracy: 0.9875 - val_loss: 0.0445 - val_accuracy: 0.9887\n",
            "Epoch 25/30\n",
            "128/128 [==============================] - 0s 2ms/step - loss: 0.0382 - accuracy: 0.9867 - val_loss: 0.0442 - val_accuracy: 0.9894\n",
            "Epoch 26/30\n",
            "128/128 [==============================] - 0s 2ms/step - loss: 0.0378 - accuracy: 0.9894 - val_loss: 0.0442 - val_accuracy: 0.9894\n",
            "Epoch 27/30\n",
            "128/128 [==============================] - 0s 2ms/step - loss: 0.0361 - accuracy: 0.9872 - val_loss: 0.0440 - val_accuracy: 0.9894\n",
            "Epoch 28/30\n",
            "128/128 [==============================] - 0s 3ms/step - loss: 0.0363 - accuracy: 0.9891 - val_loss: 0.0438 - val_accuracy: 0.9894\n",
            "Epoch 29/30\n",
            "128/128 [==============================] - 0s 2ms/step - loss: 0.0353 - accuracy: 0.9892 - val_loss: 0.0441 - val_accuracy: 0.9894\n",
            "Epoch 30/30\n",
            "128/128 [==============================] - 0s 2ms/step - loss: 0.0334 - accuracy: 0.9891 - val_loss: 0.0438 - val_accuracy: 0.9894\n"
          ]
        }
      ],
      "source": [
        "# Build the model with the optimal hyperparameters\n",
        "h_model = tuner.hypermodel.build(best_hps)\n",
        "history = h_model.fit(x_train_tfidf.toarray(), y_train, epochs=30, batch_size=50, validation_split = 0.2)"
      ]
    },
    {
      "cell_type": "code",
      "execution_count": 37,
      "metadata": {
        "id": "YQXzGMsdyKv6",
        "colab": {
          "base_uri": "https://localhost:8080/"
        },
        "outputId": "d4a54c50-694d-46fe-809e-187f14c71593"
      },
      "outputs": [
        {
          "output_type": "stream",
          "name": "stdout",
          "text": [
            "63/63 [==============================] - 0s 2ms/step - loss: 0.0395 - accuracy: 0.9865\n",
            "Testing Accuracy After Hypertuning: {'loss': 0.039456646889448166, 'accuracy': 0.9865000247955322}\n"
          ]
        }
      ],
      "source": [
        "#Quick look at accuracy after hypertuning\n",
        "\n",
        "#Testing accuracy\n",
        "print('Testing Accuracy After Hypertuning: {}'.format(h_model.evaluate(x_test_tfidf.toarray(), y_test, return_dict=True)))\n"
      ]
    },
    {
      "cell_type": "code",
      "execution_count": 38,
      "metadata": {
        "id": "wFpGCGRGyK4v",
        "colab": {
          "base_uri": "https://localhost:8080/",
          "height": 927
        },
        "outputId": "25aedba7-5de6-4e8a-9ce5-75e2c6c61e17"
      },
      "outputs": [
        {
          "output_type": "display_data",
          "data": {
            "text/plain": [
              "<Figure size 640x480 with 1 Axes>"
            ],
            "image/png": "[encoded data removed]"
          },
          "metadata": {}
        },
        {
          "output_type": "display_data",
          "data": {
            "text/plain": [
              "<Figure size 640x480 with 1 Axes>"
            ],
            "image/png": "[encoded data removed]"
          },
          "metadata": {}
        }
      ],
      "source": [
        "#Plotting loss and accuracy over ephochs \n",
        "\n",
        "\n",
        "#Accuracy\n",
        "plt.plot(history.history['accuracy'])\n",
        "plt.plot(history.history['val_accuracy'])\n",
        "plt.title('Model accuracy')\n",
        "plt.ylabel('Accuracy')\n",
        "plt.xlabel('Epoch')\n",
        "plt.legend(['Train', 'Val'], loc='upper left')\n",
        "plt.show()\n",
        "\n",
        "#Loss\n",
        "plt.plot(history.history['loss'])\n",
        "plt.plot(history.history['val_loss'])\n",
        "plt.title('Model loss')\n",
        "plt.ylabel('Loss')\n",
        "plt.xlabel('Epoch')\n",
        "plt.legend(['Train', 'Val'], loc='upper left')\n",
        "plt.show()"
      ]
    },
    {
      "cell_type": "code",
      "execution_count": 57,
      "metadata": {
        "colab": {
          "base_uri": "https://localhost:8080/"
        },
        "id": "G_ZkESsyyNgF",
        "outputId": "2484324f-1285-46db-ac78-b27eefba7a80"
      },
      "outputs": [
        {
          "output_type": "stream",
          "name": "stdout",
          "text": [
            "63/63 [==============================] - 0s 1ms/step\n",
            "MLP Predictions (Probabilities))\n",
            ":  [[4.9569388e-03]\n",
            " [9.9999970e-01]\n",
            " [7.1647129e-04]\n",
            " ...\n",
            " [9.9999994e-01]\n",
            " [9.9791467e-01]\n",
            " [9.9998057e-01]]\n",
            "63/63 [==============================] - 0s 1ms/step\n",
            "MLP Binary Predictions on Validation Data: \n",
            " [[0]\n",
            " [1]\n",
            " [0]\n",
            " ...\n",
            " [1]\n",
            " [1]\n",
            " [1]]\n",
            "Prelimenary MLP Performance --> \n",
            "               precision    recall  f1-score   support\n",
            "\n",
            "           0       0.98      0.99      0.99      1000\n",
            "           1       0.99      0.98      0.99      1000\n",
            "\n",
            "    accuracy                           0.99      2000\n",
            "   macro avg       0.99      0.99      0.99      2000\n",
            "weighted avg       0.99      0.99      0.99      2000\n",
            "\n"
          ]
        }
      ],
      "source": [
        "#MLP Predictions \n",
        "\n",
        "#Making predictions using hold-out set (probabilities)\n",
        "y_pred_proba_t = h_model.predict(x_test_tfidf.toarray())\n",
        "print('MLP Predictions (Probabilities))\\n: ', y_pred_proba_t)\n",
        "\n",
        "\n",
        "#Transforming probability outputs into binary labels\n",
        "pred_mlp_t = (h_model.predict(x_test_tfidf.toarray())> 0.5).astype(\"int32\")\n",
        "print('MLP Binary Predictions on Validation Data: \\n', pred_mlp_t)\n",
        "\n",
        "print('Prelimenary MLP Performance --> \\n {}'.format(classification_report(y_test, pred_mlp_t)))"
      ]
    },
    {
      "cell_type": "markdown",
      "metadata": {
        "id": "lGH0_U4gQ9rX"
      },
      "source": [
        "# SVM, KNN and Naive Bayes Models "
      ]
    },
    {
      "cell_type": "markdown",
      "metadata": {
        "id": "3YDCPzv-RgOb"
      },
      "source": [
        "### Prelimenary Development"
      ]
    },
    {
      "cell_type": "code",
      "execution_count": 46,
      "metadata": {
        "colab": {
          "base_uri": "https://localhost:8080/"
        },
        "id": "isM_Yf5X3Z3R",
        "outputId": "f1460ffc-e663-4bfb-a72d-ab1207105d7e"
      },
      "outputs": [
        {
          "output_type": "stream",
          "name": "stdout",
          "text": [
            "Prelimenary SVM Performance -> \n",
            "               precision    recall  f1-score   support\n",
            "\n",
            "           0       0.92      0.99      0.95      1000\n",
            "           1       0.99      0.91      0.95      1000\n",
            "\n",
            "    accuracy                           0.95      2000\n",
            "   macro avg       0.95      0.95      0.95      2000\n",
            "weighted avg       0.95      0.95      0.95      2000\n",
            "\n"
          ]
        }
      ],
      "source": [
        "#SVM \n",
        "\n",
        "\n",
        "#Initialising the parameters for prelimenary SVM model\n",
        "svm_p = svm.SVC(C=1.0, kernel='rbf', degree=3, gamma='auto')\n",
        "\n",
        "#Fitting the model on transformed training dataset\n",
        "svm_p.fit(x_train_tfidf, y_train)\n",
        "\n",
        "#Obtaining prediction on transformed test dataset\n",
        "pred_svm = svm_p.predict(x_test_tfidf)\n",
        "print(\"Prelimenary SVM Performance -> \\n\", classification_report(y_test, pred_svm))"
      ]
    },
    {
      "cell_type": "code",
      "source": [
        "#KNN\n",
        "\n",
        "\n",
        "#Initialising the parameters for prelimenary KNN model\n",
        "knn = KNeighborsClassifier(n_neighbors=5, weights='uniform', leaf_size=30)\n",
        "\n",
        "#Fitting the model on transformed training dataset\n",
        "knn.fit(x_train_tfidf, y_train)\n",
        "\n",
        "#Obtaining prediction on transformed test dataset\n",
        "pred_knn = knn.predict(x_test_tfidf)\n",
        "print(\"Prelimenary KNN Performance ->\\n \", classification_report(y_test, pred_knn))"
      ],
      "metadata": {
        "colab": {
          "base_uri": "https://localhost:8080/"
        },
        "id": "Qgxq8sE60jIP",
        "outputId": "ef1eacf8-93ab-48be-8881-b8b82834009f"
      },
      "execution_count": 58,
      "outputs": [
        {
          "output_type": "stream",
          "name": "stdout",
          "text": [
            "Prelimenary KNN Performance ->\n",
            "                precision    recall  f1-score   support\n",
            "\n",
            "           0       0.96      0.96      0.96      1000\n",
            "           1       0.96      0.96      0.96      1000\n",
            "\n",
            "    accuracy                           0.96      2000\n",
            "   macro avg       0.96      0.96      0.96      2000\n",
            "weighted avg       0.96      0.96      0.96      2000\n",
            "\n"
          ]
        }
      ]
    },
    {
      "cell_type": "code",
      "source": [
        "#Naive Bayes\n",
        "\n",
        "\n",
        "#Initialising the parameters for prelimenary Naive Bayes model\n",
        "nb = MultinomialNB(alpha=1.0, fit_prior=True, class_prior=None)\n",
        "\n",
        "#Fitting the model on transformed training dataset\n",
        "nb.fit(x_train_tfidf, y_train)\n",
        "\n",
        "#Obtaining prediction on transformed test dataset\n",
        "pred_nb = nb.predict(x_test_tfidf)\n",
        "print(\"Prelimenary NB Performance -> \\n\", classification_report(y_test, pred_nb))"
      ],
      "metadata": {
        "colab": {
          "base_uri": "https://localhost:8080/"
        },
        "id": "_LV17koZ0wBm",
        "outputId": "8fb0de5a-45e0-4132-85f5-2eb51c6b36bf"
      },
      "execution_count": 59,
      "outputs": [
        {
          "output_type": "stream",
          "name": "stdout",
          "text": [
            "Prelimenary NB Performance -> \n",
            "               precision    recall  f1-score   support\n",
            "\n",
            "           0       0.91      0.99      0.95      1000\n",
            "           1       0.99      0.90      0.94      1000\n",
            "\n",
            "    accuracy                           0.94      2000\n",
            "   macro avg       0.95      0.94      0.94      2000\n",
            "weighted avg       0.95      0.94      0.94      2000\n",
            "\n"
          ]
        }
      ]
    },
    {
      "cell_type": "markdown",
      "source": [
        "##Hypertuning \n"
      ],
      "metadata": {
        "id": "US51mjkQCGH7"
      }
    },
    {
      "cell_type": "code",
      "source": [
        "#Making search spaces\n",
        "\n",
        "\n",
        "svm_param_space = {'kernel': ['linear', 'rbf'], \n",
        "                   'C': [0.1, 1, 10], 'gamma': [0.1, 1, 10], \n",
        "                   'degree':[1,2,3,4,5]\n",
        "                   }\n",
        "\n",
        "knn_param_space = {'n_neighbors': [3, 5, 7, 9, 11], \n",
        "                   'weights': ['uniform', 'distance'], \n",
        "                   'leaf_size':[5, 10, 30, 60, 90]\n",
        "                   }\n",
        "\n",
        "nb_param_space = {'alpha': [0.1, 0.5, 1.0, 5.0, 10.0], \n",
        "                  'fit_prior': [True, False]\n",
        "                  }"
      ],
      "metadata": {
        "id": "FVDqaaAyCIYs"
      },
      "execution_count": 60,
      "outputs": []
    },
    {
      "cell_type": "code",
      "source": [
        "#Building RandomSearchCV\n",
        "\n",
        "\n",
        "cv = RepeatedStratifiedKFold(n_splits=5, n_repeats=3, random_state=1)\n",
        "scoring = 'roc_auc'\n",
        "\n",
        "\n",
        "svm_rand_search = RandomizedSearchCV(svm_p, \n",
        "                                     svm_param_space,\n",
        "                                     scoring=scoring,\n",
        "                                     n_jobs=-1,\n",
        "                                     cv=cv)\n",
        "\n",
        "knn_rand_search = RandomizedSearchCV(knn,\n",
        "                                     knn_param_space,\n",
        "                                     scoring=scoring, \n",
        "                                     n_jobs=-1,\n",
        "                                     cv=cv)\n",
        "\n",
        "nb_rand_search = RandomizedSearchCV(nb,\n",
        "                                    nb_param_space,\n",
        "                                    scoring=scoring,\n",
        "                                    n_jobs=-1,\n",
        "                                    cv=cv)\n"
      ],
      "metadata": {
        "id": "fIvnpm7KCJEy"
      },
      "execution_count": 61,
      "outputs": []
    },
    {
      "cell_type": "code",
      "source": [
        "#Running RandomSearchCV on all models\n",
        "\n",
        "rands = [svm_rand_search, \n",
        "        knn_rand_search,\n",
        "        nb_rand_search]\n",
        "\n",
        "for rand in rands:\n",
        "  rand.fit(x_train_tfidf, y_train)  "
      ],
      "metadata": {
        "id": "ZwKgc5EtCLn1"
      },
      "execution_count": 62,
      "outputs": []
    },
    {
      "cell_type": "code",
      "source": [
        "#Identifying best parameters for each model\n",
        "\n",
        "grid_dict = {0: 'SVM', 1: 'KNN', 2: 'NB'}\n",
        "             \n",
        "for i, model in enumerate(rands):\n",
        "  print('{} Best Params: {}'.format(grid_dict[i], model.best_params_))"
      ],
      "metadata": {
        "id": "Ye6VDGDWCNgG",
        "colab": {
          "base_uri": "https://localhost:8080/"
        },
        "outputId": "75b50698-bf2d-44b6-a4f2-974fdbf12138"
      },
      "execution_count": 63,
      "outputs": [
        {
          "output_type": "stream",
          "name": "stdout",
          "text": [
            "SVM Best Params: {'kernel': 'rbf', 'gamma': 0.1, 'degree': 1, 'C': 10}\n",
            "KNN Best Params: {'weights': 'distance', 'n_neighbors': 11, 'leaf_size': 90}\n",
            "NB Best Params: {'fit_prior': True, 'alpha': 0.1}\n"
          ]
        }
      ]
    },
    {
      "cell_type": "code",
      "source": [
        "#Making optimal models and using them to predict on test data\n",
        "\n",
        "\n",
        "#SVM \n",
        "svm_op = svm.SVC(C=10, kernel='rbf', gamma=0.1, degree=1)\n",
        "svm_op.fit(x_train_tfidf, y_train)\n",
        "pred_svm_t = svm_op.predict(x_test_tfidf)\n",
        "print(\"SVM Accuracy Score After Hypertuning -> \", accuracy_score(y_test, pred_svm)*100)\n",
        "\n",
        "#KNN\n",
        "knn_op = KNeighborsClassifier(n_neighbors=11, weights='distance', leaf_size=90)\n",
        "knn_op.fit(x_train_tfidf, y_train)\n",
        "pred_knn_t = knn_op.predict(x_test_tfidf)\n",
        "print(\"KNN Accuracy Score After Hypertuning-> \", accuracy_score(y_test, pred_knn)*100)\n",
        "\n",
        "#NB\n",
        "nb_op = MultinomialNB(alpha=0.1, fit_prior=True, class_prior=None)\n",
        "nb_op.fit(x_train_tfidf, y_train)\n",
        "pred_nb_t = nb_op.predict(x_test_tfidf)\n",
        "print(\"NB Accuracy Score After Hypertuning -> \", accuracy_score(y_test, pred_nb)*100)"
      ],
      "metadata": {
        "id": "zuU0qtpaJwZ9",
        "colab": {
          "base_uri": "https://localhost:8080/"
        },
        "outputId": "931ffb8d-3eee-4066-f520-c9574efa3528"
      },
      "execution_count": 65,
      "outputs": [
        {
          "output_type": "stream",
          "name": "stdout",
          "text": [
            "SVM Accuracy Score After Hypertuning ->  95.15\n",
            "KNN Accuracy Score After Hypertuning->  96.0\n",
            "NB Accuracy Score After Hypertuning ->  94.39999999999999\n"
          ]
        }
      ]
    },
    {
      "cell_type": "markdown",
      "metadata": {
        "id": "6IhrEBmPRb6f"
      },
      "source": [
        "#Evaluation"
      ]
    },
    {
      "cell_type": "markdown",
      "source": [
        "##Evaluating performance on test data "
      ],
      "metadata": {
        "id": "bGJNmax3Q4bG"
      }
    },
    {
      "cell_type": "code",
      "source": [
        "#Confusion matricies and classification reports for each model (Testing Data)\n",
        "\n",
        "\n",
        "models = ['SVM', 'KNN', 'NB', 'MLP']\n",
        "preds = [pred_svm_t, pred_knn_t, pred_nb_t, pred_mlp_t]\n",
        "num = [1,2,3,4]\n",
        "\n",
        "\n",
        "for i, pred, mod in zip(num, preds, models):\n",
        "  #Classification Reports\n",
        "  print('Classification Report for {}:\\n'.format(mod),  classification_report(y_test, pred))\n",
        "\n",
        "  #Confusion Matricies\n",
        "  cf_matrix = confusion_matrix(y_test, pred)\n",
        "  plt.figure(i)\n",
        "  sns.heatmap(cf_matrix, annot=True).set(title='{}'.format(mod))\n"
      ],
      "metadata": {
        "colab": {
          "base_uri": "https://localhost:8080/",
          "height": 1000
        },
        "id": "4WiBqx1TIjM1",
        "outputId": "a1496c85-d706-4c05-8c85-04848c9283b5"
      },
      "execution_count": 66,
      "outputs": [
        {
          "output_type": "stream",
          "name": "stdout",
          "text": [
            "Classification Report for SVM:\n",
            "               precision    recall  f1-score   support\n",
            "\n",
            "           0       0.99      0.99      0.99      1000\n",
            "           1       0.99      0.99      0.99      1000\n",
            "\n",
            "    accuracy                           0.99      2000\n",
            "   macro avg       0.99      0.99      0.99      2000\n",
            "weighted avg       0.99      0.99      0.99      2000\n",
            "\n",
            "Classification Report for KNN:\n",
            "               precision    recall  f1-score   support\n",
            "\n",
            "           0       0.96      0.97      0.96      1000\n",
            "           1       0.97      0.95      0.96      1000\n",
            "\n",
            "    accuracy                           0.96      2000\n",
            "   macro avg       0.96      0.96      0.96      2000\n",
            "weighted avg       0.96      0.96      0.96      2000\n",
            "\n",
            "Classification Report for NB:\n",
            "               precision    recall  f1-score   support\n",
            "\n",
            "           0       0.91      0.99      0.95      1000\n",
            "           1       0.99      0.91      0.94      1000\n",
            "\n",
            "    accuracy                           0.95      2000\n",
            "   macro avg       0.95      0.95      0.95      2000\n",
            "weighted avg       0.95      0.95      0.95      2000\n",
            "\n",
            "Classification Report for MLP:\n",
            "               precision    recall  f1-score   support\n",
            "\n",
            "           0       0.98      0.99      0.99      1000\n",
            "           1       0.99      0.98      0.99      1000\n",
            "\n",
            "    accuracy                           0.99      2000\n",
            "   macro avg       0.99      0.99      0.99      2000\n",
            "weighted avg       0.99      0.99      0.99      2000\n",
            "\n"
          ]
        },
        {
          "output_type": "display_data",
          "data": {
            "text/plain": [
              "<Figure size 640x480 with 2 Axes>"
            ],
            "image/png": "[encoded data removed]"
          },
          "metadata": {}
        },
        {
          "output_type": "display_data",
          "data": {
            "text/plain": [
              "<Figure size 640x480 with 2 Axes>"
            ],
            "image/png": "[encoded data removed]"
          },
          "metadata": {}
        },
        {
          "output_type": "display_data",
          "data": {
            "text/plain": [
              "<Figure size 640x480 with 2 Axes>"
            ],
            "image/png": "[encoded data removed]"
          },
          "metadata": {}
        },
        {
          "output_type": "display_data",
          "data": {
            "text/plain": [
              "<Figure size 640x480 with 2 Axes>"
            ],
            "image/png": "[encoded data removed]"
          },
          "metadata": {}
        }
      ]
    },
    {
      "cell_type": "code",
      "source": [
        "#ROC curves (Testing Data)\n",
        "\n",
        "\n",
        "#Calculating ROC Scores\n",
        "svm_auc_score = roc_auc_score(y_test, pred_svm_t)\n",
        "knn_auc_score = roc_auc_score(y_test, pred_knn_t)\n",
        "nb_auc_score = roc_auc_score(y_test, pred_nb_t)\n",
        "mlp_auc_score = roc_auc_score(y_test, pred_mlp_t)\n",
        "\n",
        "#Finding false pos and true pos rates\n",
        "fpr_svm, tpr_svm, _ = metrics.roc_curve(y_test,  pred_svm_t)\n",
        "fpr_knn, tpr_knn, _ = metrics.roc_curve(y_test,  pred_knn_t)\n",
        "fpr_nb, tpr_nb, _ = metrics.roc_curve(y_test,  pred_nb_t)\n",
        "fpr_mlp, tpr_mlp, _ = metrics.roc_curve(y_test,  pred_mlp_t)\n",
        "\n",
        "#Plotting all ROC data onto one graph\n",
        "# Plot ROC curves\n",
        "plt.figure(figsize=(8, 6))\n",
        "plt.plot(fpr_svm, tpr_svm, color='darkorange', lw=2, label='SVM (AUC = %0.2f)' % svm_auc_score)\n",
        "plt.plot(fpr_knn, tpr_knn, color='blue', lw=2, label='KNN (AUC = %0.2f)' % knn_auc_score)\n",
        "plt.plot(fpr_nb, tpr_nb, color='green', lw=2, label='NB (AUC = %0.2f)' % nb_auc_score)\n",
        "plt.plot(fpr_mlp, tpr_mlp, color='red', lw=2, label='MLP (AUC = %0.2f)' % mlp_auc_score)\n",
        "\n",
        "# Set plot properties\n",
        "plt.plot([0, 1], [0, 1], color='gray', lw=2, linestyle='--')\n",
        "plt.xlim([0.0, 1.0])\n",
        "plt.ylim([0.0, 1.05])\n",
        "plt.xlabel('False Positive Rate')\n",
        "plt.ylabel('True Positive Rate')\n",
        "plt.title('ROC Curves (Test)')\n",
        "plt.legend(loc=\"lower right\")\n",
        "\n",
        "plt.show()\n"
      ],
      "metadata": {
        "colab": {
          "base_uri": "https://localhost:8080/",
          "height": 564
        },
        "id": "AKSBhjagaRaH",
        "outputId": "c4daec9b-348a-475d-a532-29d2132b7fb4"
      },
      "execution_count": 67,
      "outputs": [
        {
          "output_type": "display_data",
          "data": {
            "text/plain": [
              "<Figure size 800x600 with 1 Axes>"
            ],
            "image/png": "[encoded data removed]"
          },
          "metadata": {}
        }
      ]
    },
    {
      "cell_type": "markdown",
      "source": [
        "# Testing on external data"
      ],
      "metadata": {
        "id": "EPfnicYcIcRc"
      }
    },
    {
      "cell_type": "markdown",
      "source": [
        "Here is a link to the dataset used https://www.kaggle.com/datasets/saurabhshahane/fake-news-classification"
      ],
      "metadata": {
        "id": "DWFat3HmIkY9"
      }
    },
    {
      "cell_type": "code",
      "source": [
        "#Loading and preprocessing external data \n",
        "\n",
        "\n",
        "# Reading in dataset\n",
        "other_data = pd.read_csv('/content/drive/MyDrive/Pre-processing/WELFake_Dataset.csv')\n",
        "\n",
        "# Removing NaN values\n",
        "other_data.dropna(inplace=True)\n",
        "\n",
        "# Removing redundant columns and renaming columns to be in format suited for our \n",
        "#models\n",
        "other_data = other_data.drop(['Unnamed: 0'], axis=1)\n",
        "other_data = other_data.rename(columns={\"text\": \"body\"})\n",
        "\n",
        "\n",
        "data = other_data.copy()\n",
        "\n",
        "#Seperating the data into X and Y variables\n",
        "y_test = data['label'].copy() #this is the label column (target variable)\n",
        "x_data = data.drop(['label'], axis=1) #this is title and body text\n",
        "\n",
        "\n",
        "\n",
        "#only creating a \"test\" tdidf because the whole dataset is being used as a test, no training.\n",
        "#here we are using third party external data to test our models\n",
        "\n",
        "x_test_tfidf = tfidf_pipeline.transform(x_data)"
      ],
      "metadata": {
        "id": "6ae7b8n0IjZM"
      },
      "execution_count": null,
      "outputs": []
    },
    {
      "cell_type": "code",
      "source": [
        "#Making predictions on test data \n",
        "\n",
        "\n",
        "pred_svm_t = svm_op.predict(x_test_tfidf)\n",
        "pred_knn_t = knn_op.predict(x_test_tfidf)\n",
        "pred_nb_t = nb_op.predict(x_test_tfidf)\n",
        "pred_mlp_t = (h_model.predict(x_test_tfidf.toarray())> 0.5).astype(\"int32\")"
      ],
      "metadata": {
        "id": "5KZWj5sH-Jm7"
      },
      "execution_count": null,
      "outputs": []
    },
    {
      "cell_type": "code",
      "source": [
        "#Confusion matricies and classification reports for each model (Testing Data)\n",
        "\n",
        "\n",
        "models = ['SVM', 'KNN', 'NB', 'MLP']\n",
        "preds = [pred_svm_t, pred_knn_t, pred_nb_t, pred_mlp_t]\n",
        "num = [1,2,3,4]\n",
        "\n",
        "\n",
        "for i, pred, mod in zip(num, preds, models):\n",
        "  #Classification Reports\n",
        "  print('Classification Report for {} (Test):\\n'.format(mod),  classification_report(y_test, pred))\n",
        "\n",
        "  #Confusion Matricies\n",
        "  cf_matrix = confusion_matrix(y_test, pred)\n",
        "  plt.figure(i)\n",
        "  sns.heatmap(cf_matrix, annot=True).set(title='{} (Test)'.format(mod))"
      ],
      "metadata": {
        "id": "1VB8oC01-Ltg"
      },
      "execution_count": null,
      "outputs": []
    },
    {
      "cell_type": "code",
      "source": [
        "#ROC curves (Testing Data)\n",
        "\n",
        "\n",
        "#Calculating ROC Scores\n",
        "svm_auc_score = roc_auc_score(y_test, pred_svm_t)\n",
        "knn_auc_score = roc_auc_score(y_test, pred_knn_t)\n",
        "nb_auc_score = roc_auc_score(y_test, pred_nb_t)\n",
        "mlp_auc_score = roc_auc_score(y_test, pred_mlp_t)\n",
        "\n",
        "#Finding false pos and true pos rates\n",
        "fpr_svm, tpr_svm, _ = metrics.roc_curve(y_test,  pred_svm_t)\n",
        "fpr_knn, tpr_knn, _ = metrics.roc_curve(y_test,  pred_knn_t)\n",
        "fpr_nb, tpr_nb, _ = metrics.roc_curve(y_test,  pred_nb_t)\n",
        "fpr_mlp, tpr_mlp, _ = metrics.roc_curve(y_test,  pred_mlp_t)\n",
        "\n",
        "#Plotting all ROC data onto one graph\n",
        "# Plot ROC curves\n",
        "plt.figure(figsize=(8, 6))\n",
        "plt.plot(fpr_svm, tpr_svm, color='darkorange', lw=2, label='SVM (AUC = %0.2f)' % svm_auc_score)\n",
        "plt.plot(fpr_knn, tpr_knn, color='blue', lw=2, label='KNN (AUC = %0.2f)' % knn_auc_score)\n",
        "plt.plot(fpr_nb, tpr_nb, color='green', lw=2, label='NB (AUC = %0.2f)' % nb_auc_score)\n",
        "plt.plot(fpr_mlp, tpr_mlp, color='red', lw=2, label='MLP (AUC = %0.2f)' % mlp_auc_score)\n",
        "\n",
        "# Set plot properties\n",
        "plt.plot([0, 1], [0, 1], color='gray', lw=2, linestyle='--')\n",
        "plt.xlim([0.0, 1.0])\n",
        "plt.ylim([0.0, 1.05])\n",
        "plt.xlabel('False Positive Rate')\n",
        "plt.ylabel('True Positive Rate')\n",
        "plt.title('ROC Curves (Test)')\n",
        "plt.legend(loc=\"lower right\")\n",
        "\n",
        "plt.show()"
      ],
      "metadata": {
        "id": "VHOr0oi6-Pqs"
      },
      "execution_count": null,
      "outputs": []
    },
    {
      "cell_type": "markdown",
      "source": [
        "*The reasons as to why our model works so well on the dataset we were assigned and poorly on general data will be explored and discussed in the report.*\n"
      ],
      "metadata": {
        "id": "_pnCBkieKZyT"
      }
    }
  ],
  "metadata": {
    "colab": {
      "provenance": []
    },
    "kernelspec": {
      "display_name": "Python 3",
      "name": "python3"
    },
    "language_info": {
      "name": "python"
    }
  },
  "nbformat": 4,
  "nbformat_minor": 0
}